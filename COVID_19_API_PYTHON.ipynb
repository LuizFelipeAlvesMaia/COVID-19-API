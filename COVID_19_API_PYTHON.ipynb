{
  "nbformat": 4,
  "nbformat_minor": 0,
  "metadata": {
    "colab": {
      "provenance": [],
      "authorship_tag": "ABX9TyOo0AoDdy9DU0fiUOFUs+pb"
    },
    "kernelspec": {
      "name": "python3",
      "display_name": "Python 3"
    },
    "language_info": {
      "name": "python"
    }
  },
  "cells": [
    {
      "cell_type": "code",
      "source": [
        "import requests\n",
        "\n",
        "\n",
        "\n",
        "pais = input('Digite o pais que deseja pesquisar: ')\n",
        "\n",
        "url = f'https://disease.sh/v3/covid-19/countries/{pais}'\n",
        "\n",
        "resposta = requests.get(url)\n",
        "\n",
        "if (resposta.status_code == 200):\n",
        "  casosDadosMundiais = float(resposta.json()['cases'])\n",
        "  casosFormatados = f'{casosDadosMundiais:_}'\n",
        "  casosFormatados = casosFormatados.replace('.', ',').replace('_', '.')\n",
        "  print(f'Os casos no {pais} segundo medidor MUNDIAL é: ',casosFormatados)\n",
        "  \n",
        "else:\n",
        "  print('Sua pesquisa falhou, tente novamente')"
      ],
      "metadata": {
        "colab": {
          "base_uri": "https://localhost:8080/"
        },
        "id": "vWrChdpX_biH",
        "outputId": "0a57f1ac-a155-4c65-ff13-47b438a44071"
      },
      "execution_count": 2,
      "outputs": [
        {
          "output_type": "stream",
          "name": "stdout",
          "text": [
            "Digite o pais que deseja pesquisar: Brasil\n",
            "Os casos no Brasil segundo medidor MUNDIAL é:  36.371.609,0\n"
          ]
        }
      ]
    }
  ]
}